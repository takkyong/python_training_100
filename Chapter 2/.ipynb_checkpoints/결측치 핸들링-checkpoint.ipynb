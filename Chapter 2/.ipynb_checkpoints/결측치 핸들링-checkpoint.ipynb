{
 "cells": [
  {
   "cell_type": "code",
   "execution_count": 1,
   "metadata": {},
   "outputs": [],
   "source": [
    "import pandas as pd"
   ]
  },
  {
   "cell_type": "code",
   "execution_count": 2,
   "metadata": {},
   "outputs": [
    {
     "data": {
      "text/html": [
       "<div>\n",
       "<style scoped>\n",
       "    .dataframe tbody tr th:only-of-type {\n",
       "        vertical-align: middle;\n",
       "    }\n",
       "\n",
       "    .dataframe tbody tr th {\n",
       "        vertical-align: top;\n",
       "    }\n",
       "\n",
       "    .dataframe thead th {\n",
       "        text-align: right;\n",
       "    }\n",
       "</style>\n",
       "<table border=\"1\" class=\"dataframe\">\n",
       "  <thead>\n",
       "    <tr style=\"text-align: right;\">\n",
       "      <th></th>\n",
       "      <th>purchase_date</th>\n",
       "      <th>item_name</th>\n",
       "      <th>item_price</th>\n",
       "      <th>customer_name</th>\n",
       "    </tr>\n",
       "  </thead>\n",
       "  <tbody>\n",
       "    <tr>\n",
       "      <th>0</th>\n",
       "      <td>2019-06-13 18:02</td>\n",
       "      <td>상품A</td>\n",
       "      <td>100.0</td>\n",
       "      <td>김가온</td>\n",
       "    </tr>\n",
       "    <tr>\n",
       "      <th>1</th>\n",
       "      <td>2019-07-13 13:05</td>\n",
       "      <td>상 품 S</td>\n",
       "      <td>NaN</td>\n",
       "      <td>김우찬</td>\n",
       "    </tr>\n",
       "    <tr>\n",
       "      <th>2</th>\n",
       "      <td>2019-05-11 19:42</td>\n",
       "      <td>상 품 a</td>\n",
       "      <td>NaN</td>\n",
       "      <td>김유찬</td>\n",
       "    </tr>\n",
       "    <tr>\n",
       "      <th>3</th>\n",
       "      <td>2019-02-12 23:40</td>\n",
       "      <td>상품Z</td>\n",
       "      <td>2600.0</td>\n",
       "      <td>김재현</td>\n",
       "    </tr>\n",
       "    <tr>\n",
       "      <th>4</th>\n",
       "      <td>2019-04-22 3:09</td>\n",
       "      <td>상품a</td>\n",
       "      <td>NaN</td>\n",
       "      <td>김강현</td>\n",
       "    </tr>\n",
       "  </tbody>\n",
       "</table>\n",
       "</div>"
      ],
      "text/plain": [
       "      purchase_date item_name  item_price customer_name\n",
       "0  2019-06-13 18:02       상품A       100.0           김가온\n",
       "1  2019-07-13 13:05     상 품 S         NaN           김우찬\n",
       "2  2019-05-11 19:42     상 품 a         NaN           김유찬\n",
       "3  2019-02-12 23:40       상품Z      2600.0           김재현\n",
       "4   2019-04-22 3:09       상품a         NaN           김강현"
      ]
     },
     "execution_count": 2,
     "metadata": {},
     "output_type": "execute_result"
    }
   ],
   "source": [
    "uriage=pd.read_csv(\"uriage.csv\")\n",
    "uriage.head()"
   ]
  },
  {
   "cell_type": "code",
   "execution_count": 3,
   "metadata": {},
   "outputs": [],
   "source": [
    "#먼저 pip install xlrd를 설치해야 함"
   ]
  },
  {
   "cell_type": "code",
   "execution_count": 4,
   "metadata": {},
   "outputs": [
    {
     "data": {
      "text/html": [
       "<div>\n",
       "<style scoped>\n",
       "    .dataframe tbody tr th:only-of-type {\n",
       "        vertical-align: middle;\n",
       "    }\n",
       "\n",
       "    .dataframe tbody tr th {\n",
       "        vertical-align: top;\n",
       "    }\n",
       "\n",
       "    .dataframe thead th {\n",
       "        text-align: right;\n",
       "    }\n",
       "</style>\n",
       "<table border=\"1\" class=\"dataframe\">\n",
       "  <thead>\n",
       "    <tr style=\"text-align: right;\">\n",
       "      <th></th>\n",
       "      <th>고객이름</th>\n",
       "      <th>지역</th>\n",
       "      <th>등록일</th>\n",
       "    </tr>\n",
       "  </thead>\n",
       "  <tbody>\n",
       "    <tr>\n",
       "      <th>0</th>\n",
       "      <td>김 현성</td>\n",
       "      <td>H시</td>\n",
       "      <td>2018-01-04 00:00:00</td>\n",
       "    </tr>\n",
       "    <tr>\n",
       "      <th>1</th>\n",
       "      <td>김 도윤</td>\n",
       "      <td>E시</td>\n",
       "      <td>42782</td>\n",
       "    </tr>\n",
       "    <tr>\n",
       "      <th>2</th>\n",
       "      <td>김 지한</td>\n",
       "      <td>A시</td>\n",
       "      <td>2018-01-07 00:00:00</td>\n",
       "    </tr>\n",
       "    <tr>\n",
       "      <th>3</th>\n",
       "      <td>김 하윤</td>\n",
       "      <td>F시</td>\n",
       "      <td>42872</td>\n",
       "    </tr>\n",
       "    <tr>\n",
       "      <th>4</th>\n",
       "      <td>김 시온</td>\n",
       "      <td>E시</td>\n",
       "      <td>43127</td>\n",
       "    </tr>\n",
       "  </tbody>\n",
       "</table>\n",
       "</div>"
      ],
      "text/plain": [
       "   고객이름  지역                  등록일\n",
       "0  김 현성  H시  2018-01-04 00:00:00\n",
       "1  김 도윤  E시                42782\n",
       "2  김 지한  A시  2018-01-07 00:00:00\n",
       "3  김 하윤  F시                42872\n",
       "4  김 시온  E시                43127"
      ]
     },
     "execution_count": 4,
     "metadata": {},
     "output_type": "execute_result"
    }
   ],
   "source": [
    "customer_information=pd.read_excel(\"kokyaku_daicho.xlsx\")\n",
    "customer_information.head()"
   ]
  },
  {
   "cell_type": "markdown",
   "metadata": {},
   "source": [
    "### 테크닉1. 오류를 확인해보자"
   ]
  },
  {
   "cell_type": "code",
   "execution_count": 5,
   "metadata": {},
   "outputs": [
    {
     "data": {
      "text/plain": [
       "0      상품A\n",
       "1    상 품 S\n",
       "2    상 품 a\n",
       "3      상품Z\n",
       "4      상품a\n",
       "Name: item_name, dtype: object"
      ]
     },
     "execution_count": 5,
     "metadata": {},
     "output_type": "execute_result"
    }
   ],
   "source": [
    "#상품명이 이상했으니까 우선 상품명 컬럼을 확인해보자\n",
    "uriage[\"item_name\"].head()"
   ]
  },
  {
   "cell_type": "code",
   "execution_count": 6,
   "metadata": {},
   "outputs": [
    {
     "name": "stdout",
     "output_type": "stream",
     "text": [
      "387\n",
      "고객이름    0\n",
      "지역      0\n",
      "등록일     0\n",
      "dtype: int64\n"
     ]
    }
   ],
   "source": [
    "#아이템가격이 이상했으니까 아이템가격 컬럼도 확인해보자\n",
    "#.isnull().sum() 하면 null값이 몇개인지 확인 가능\n",
    "print(uriage[\"item_price\"].isnull().sum())\n",
    "\n",
    "#참고) 테이블 전체의 NaN값이 몇개 있는지 알아보려면\n",
    "print(customer_information.isnull().sum())"
   ]
  },
  {
   "cell_type": "code",
   "execution_count": 7,
   "metadata": {},
   "outputs": [
    {
     "data": {
      "text/plain": [
       "0    김 현성\n",
       "1    김 도윤\n",
       "2    김 지한\n",
       "3    김 하윤\n",
       "4    김 시온\n",
       "Name: 고객이름, dtype: object"
      ]
     },
     "execution_count": 7,
     "metadata": {},
     "output_type": "execute_result"
    }
   ],
   "source": [
    "#고객명이 이상하니까 고객명 컬럼도 확인해보자\n",
    "customer_information[\"고객이름\"].head()"
   ]
  },
  {
   "cell_type": "code",
   "execution_count": 8,
   "metadata": {},
   "outputs": [
    {
     "data": {
      "text/plain": [
       "0    2018-01-04 00:00:00\n",
       "1                  42782\n",
       "2    2018-01-07 00:00:00\n",
       "3                  42872\n",
       "4                  43127\n",
       "Name: 등록일, dtype: object"
      ]
     },
     "execution_count": 8,
     "metadata": {},
     "output_type": "execute_result"
    }
   ],
   "source": [
    "#날짜가 이상하니까 날짜 컬럼도 확인해보자\n",
    "customer_information[\"등록일\"].head()"
   ]
  },
  {
   "cell_type": "markdown",
   "metadata": {},
   "source": [
    "### 테크닉2. 상품명 오류 수정"
   ]
  },
  {
   "cell_type": "code",
   "execution_count": 9,
   "metadata": {},
   "outputs": [
    {
     "data": {
      "text/html": [
       "<div>\n",
       "<style scoped>\n",
       "    .dataframe tbody tr th:only-of-type {\n",
       "        vertical-align: middle;\n",
       "    }\n",
       "\n",
       "    .dataframe tbody tr th {\n",
       "        vertical-align: top;\n",
       "    }\n",
       "\n",
       "    .dataframe thead th {\n",
       "        text-align: right;\n",
       "    }\n",
       "</style>\n",
       "<table border=\"1\" class=\"dataframe\">\n",
       "  <thead>\n",
       "    <tr style=\"text-align: right;\">\n",
       "      <th>item_name</th>\n",
       "      <th>상 품 n</th>\n",
       "      <th>상품 E</th>\n",
       "      <th>상품 M</th>\n",
       "      <th>상품 P</th>\n",
       "      <th>상품 S</th>\n",
       "      <th>상품 W</th>\n",
       "      <th>상품 X</th>\n",
       "      <th>상품W</th>\n",
       "      <th>상  품O</th>\n",
       "      <th>상  품Q</th>\n",
       "      <th>...</th>\n",
       "      <th>상품k</th>\n",
       "      <th>상품l</th>\n",
       "      <th>상품o</th>\n",
       "      <th>상품p</th>\n",
       "      <th>상품r</th>\n",
       "      <th>상품s</th>\n",
       "      <th>상품t</th>\n",
       "      <th>상품v</th>\n",
       "      <th>상품x</th>\n",
       "      <th>상품y</th>\n",
       "    </tr>\n",
       "    <tr>\n",
       "      <th>purchase_date</th>\n",
       "      <th></th>\n",
       "      <th></th>\n",
       "      <th></th>\n",
       "      <th></th>\n",
       "      <th></th>\n",
       "      <th></th>\n",
       "      <th></th>\n",
       "      <th></th>\n",
       "      <th></th>\n",
       "      <th></th>\n",
       "      <th></th>\n",
       "      <th></th>\n",
       "      <th></th>\n",
       "      <th></th>\n",
       "      <th></th>\n",
       "      <th></th>\n",
       "      <th></th>\n",
       "      <th></th>\n",
       "      <th></th>\n",
       "      <th></th>\n",
       "      <th></th>\n",
       "    </tr>\n",
       "  </thead>\n",
       "  <tbody>\n",
       "    <tr>\n",
       "      <th>201901</th>\n",
       "      <td>1</td>\n",
       "      <td>0</td>\n",
       "      <td>0</td>\n",
       "      <td>0</td>\n",
       "      <td>0</td>\n",
       "      <td>0</td>\n",
       "      <td>0</td>\n",
       "      <td>0</td>\n",
       "      <td>0</td>\n",
       "      <td>0</td>\n",
       "      <td>...</td>\n",
       "      <td>1</td>\n",
       "      <td>1</td>\n",
       "      <td>1</td>\n",
       "      <td>0</td>\n",
       "      <td>0</td>\n",
       "      <td>0</td>\n",
       "      <td>0</td>\n",
       "      <td>0</td>\n",
       "      <td>0</td>\n",
       "      <td>0</td>\n",
       "    </tr>\n",
       "    <tr>\n",
       "      <th>201902</th>\n",
       "      <td>0</td>\n",
       "      <td>0</td>\n",
       "      <td>0</td>\n",
       "      <td>0</td>\n",
       "      <td>0</td>\n",
       "      <td>0</td>\n",
       "      <td>1</td>\n",
       "      <td>0</td>\n",
       "      <td>0</td>\n",
       "      <td>0</td>\n",
       "      <td>...</td>\n",
       "      <td>0</td>\n",
       "      <td>0</td>\n",
       "      <td>0</td>\n",
       "      <td>0</td>\n",
       "      <td>0</td>\n",
       "      <td>1</td>\n",
       "      <td>1</td>\n",
       "      <td>1</td>\n",
       "      <td>0</td>\n",
       "      <td>0</td>\n",
       "    </tr>\n",
       "    <tr>\n",
       "      <th>201903</th>\n",
       "      <td>0</td>\n",
       "      <td>1</td>\n",
       "      <td>1</td>\n",
       "      <td>1</td>\n",
       "      <td>0</td>\n",
       "      <td>0</td>\n",
       "      <td>0</td>\n",
       "      <td>0</td>\n",
       "      <td>0</td>\n",
       "      <td>0</td>\n",
       "      <td>...</td>\n",
       "      <td>0</td>\n",
       "      <td>0</td>\n",
       "      <td>0</td>\n",
       "      <td>0</td>\n",
       "      <td>0</td>\n",
       "      <td>0</td>\n",
       "      <td>0</td>\n",
       "      <td>0</td>\n",
       "      <td>0</td>\n",
       "      <td>0</td>\n",
       "    </tr>\n",
       "    <tr>\n",
       "      <th>201904</th>\n",
       "      <td>0</td>\n",
       "      <td>0</td>\n",
       "      <td>0</td>\n",
       "      <td>0</td>\n",
       "      <td>0</td>\n",
       "      <td>0</td>\n",
       "      <td>0</td>\n",
       "      <td>1</td>\n",
       "      <td>0</td>\n",
       "      <td>1</td>\n",
       "      <td>...</td>\n",
       "      <td>0</td>\n",
       "      <td>0</td>\n",
       "      <td>0</td>\n",
       "      <td>0</td>\n",
       "      <td>0</td>\n",
       "      <td>1</td>\n",
       "      <td>0</td>\n",
       "      <td>0</td>\n",
       "      <td>0</td>\n",
       "      <td>0</td>\n",
       "    </tr>\n",
       "    <tr>\n",
       "      <th>201905</th>\n",
       "      <td>0</td>\n",
       "      <td>0</td>\n",
       "      <td>0</td>\n",
       "      <td>0</td>\n",
       "      <td>1</td>\n",
       "      <td>0</td>\n",
       "      <td>0</td>\n",
       "      <td>0</td>\n",
       "      <td>0</td>\n",
       "      <td>0</td>\n",
       "      <td>...</td>\n",
       "      <td>0</td>\n",
       "      <td>1</td>\n",
       "      <td>0</td>\n",
       "      <td>0</td>\n",
       "      <td>0</td>\n",
       "      <td>0</td>\n",
       "      <td>0</td>\n",
       "      <td>0</td>\n",
       "      <td>0</td>\n",
       "      <td>1</td>\n",
       "    </tr>\n",
       "    <tr>\n",
       "      <th>201906</th>\n",
       "      <td>0</td>\n",
       "      <td>0</td>\n",
       "      <td>0</td>\n",
       "      <td>0</td>\n",
       "      <td>0</td>\n",
       "      <td>1</td>\n",
       "      <td>0</td>\n",
       "      <td>0</td>\n",
       "      <td>0</td>\n",
       "      <td>0</td>\n",
       "      <td>...</td>\n",
       "      <td>0</td>\n",
       "      <td>0</td>\n",
       "      <td>0</td>\n",
       "      <td>1</td>\n",
       "      <td>0</td>\n",
       "      <td>0</td>\n",
       "      <td>0</td>\n",
       "      <td>0</td>\n",
       "      <td>1</td>\n",
       "      <td>0</td>\n",
       "    </tr>\n",
       "    <tr>\n",
       "      <th>201907</th>\n",
       "      <td>0</td>\n",
       "      <td>0</td>\n",
       "      <td>0</td>\n",
       "      <td>0</td>\n",
       "      <td>0</td>\n",
       "      <td>0</td>\n",
       "      <td>0</td>\n",
       "      <td>0</td>\n",
       "      <td>1</td>\n",
       "      <td>0</td>\n",
       "      <td>...</td>\n",
       "      <td>0</td>\n",
       "      <td>0</td>\n",
       "      <td>1</td>\n",
       "      <td>0</td>\n",
       "      <td>2</td>\n",
       "      <td>0</td>\n",
       "      <td>0</td>\n",
       "      <td>0</td>\n",
       "      <td>0</td>\n",
       "      <td>0</td>\n",
       "    </tr>\n",
       "  </tbody>\n",
       "</table>\n",
       "<p>7 rows × 99 columns</p>\n",
       "</div>"
      ],
      "text/plain": [
       "item_name       상 품 n   상품 E   상품 M   상품 P   상품 S   상품 W   상품 X   상품W  상  품O  \\\n",
       "purchase_date                                                                  \n",
       "201901              1      0      0      0      0      0      0     0      0   \n",
       "201902              0      0      0      0      0      0      1     0      0   \n",
       "201903              0      1      1      1      0      0      0     0      0   \n",
       "201904              0      0      0      0      0      0      0     1      0   \n",
       "201905              0      0      0      0      1      0      0     0      0   \n",
       "201906              0      0      0      0      0      1      0     0      0   \n",
       "201907              0      0      0      0      0      0      0     0      1   \n",
       "\n",
       "item_name      상  품Q  ...  상품k  상품l  상품o  상품p  상품r  상품s  상품t  상품v  상품x  상품y  \n",
       "purchase_date         ...                                                    \n",
       "201901             0  ...    1    1    1    0    0    0    0    0    0    0  \n",
       "201902             0  ...    0    0    0    0    0    1    1    1    0    0  \n",
       "201903             0  ...    0    0    0    0    0    0    0    0    0    0  \n",
       "201904             1  ...    0    0    0    0    0    1    0    0    0    0  \n",
       "201905             0  ...    0    1    0    0    0    0    0    0    0    1  \n",
       "201906             0  ...    0    0    0    1    0    0    0    0    1    0  \n",
       "201907             0  ...    0    0    1    0    2    0    0    0    0    0  \n",
       "\n",
       "[7 rows x 99 columns]"
      ]
     },
     "execution_count": 9,
     "metadata": {},
     "output_type": "execute_result"
    }
   ],
   "source": [
    "uriage[\"purchase_date\"] = pd.to_datetime(uriage[\"purchase_date\"])\n",
    "uriage[\"purchase_date\"] = uriage[\"purchase_date\"].dt.strftime(\"%Y%m\")\n",
    "pivot=pd.pivot_table(uriage, index=\"purchase_date\", columns=\"item_name\", aggfunc=\"size\", fill_value=0)\n",
    "pivot"
   ]
  },
  {
   "cell_type": "code",
   "execution_count": 10,
   "metadata": {},
   "outputs": [
    {
     "data": {
      "text/plain": [
       "array(['상품A', '상 품 S', '상 품 a', '상품Z', '상품a', '상품S', '상품 a', '상품V', '상품O',\n",
       "       '상 품U', '상품L', '상  품V', '상 품O', '상품C', '상품I', '상품r', '상품X', '상품 g',\n",
       "       '상품R', '상품P', '상품Q', '상품y', '상품 A', '상품N', '상품W', '상 품E', '상품K',\n",
       "       '상품B', '상품F', '상 품s', ' 상품W', ' 상 품 n', '상 품F', '상품D', '상품M',\n",
       "       '상품Y', '상품U', '상품H', '상품T', '상품J', '상  품O', '상품E', '상  품Q',\n",
       "       ' 상품 S', ' 상품 M', '상  품T', '상품G', '상 품G', ' 상품 P', ' 상품 E', '상 품N',\n",
       "       '상 품Y', '상품 J', '상품 V', '상품 K', '상 품V', '상 품D', '상 품A', '상품 F',\n",
       "       '상품 H', '상 품K', '상 품T', '상품 X', '상품 Q', '상 품X', '상 품H', '상 품C',\n",
       "       '상품 B', '상품 O', '상품 T', '상품v', '상품p', '상품i', '상품 w', '상 품 s',\n",
       "       '상 품 q', '상품s', '상품l', '상품t', '상품k', '상품g', '상품o', '상품 R', '상품 S',\n",
       "       '상 품M', '상품j', '상품d', '상품 I', '상품 E', '상품 o', '상품c', '상품 v', '상품e',\n",
       "       '상품x', '상 품I', ' 상품 W', ' 상품 X', '상품 M', '상 품P'], dtype=object)"
      ]
     },
     "execution_count": 10,
     "metadata": {},
     "output_type": "execute_result"
    }
   ],
   "source": [
    "#1단계 - item name의 종류를 전부 보여줌\n",
    "pd.unique(uriage[\"item_name\"])"
   ]
  },
  {
   "cell_type": "code",
   "execution_count": 11,
   "metadata": {},
   "outputs": [
    {
     "data": {
      "text/plain": [
       "array(['상품A', '상 품 S', '상 품 A', '상품Z', '상품S', '상품 A', '상품V', '상품O',\n",
       "       '상 품U', '상품L', '상  품V', '상 품O', '상품C', '상품I', '상품R', '상품X', '상품 G',\n",
       "       '상품P', '상품Q', '상품Y', '상품N', '상품W', '상 품E', '상품K', '상품B', '상품F',\n",
       "       '상 품S', ' 상품W', ' 상 품 N', '상 품F', '상품D', '상품M', '상품U', '상품H',\n",
       "       '상품T', '상품J', '상  품O', '상품E', '상  품Q', ' 상품 S', ' 상품 M', '상  품T',\n",
       "       '상품G', '상 품G', ' 상품 P', ' 상품 E', '상 품N', '상 품Y', '상품 J', '상품 V',\n",
       "       '상품 K', '상 품V', '상 품D', '상 품A', '상품 F', '상품 H', '상 품K', '상 품T',\n",
       "       '상품 X', '상품 Q', '상 품X', '상 품H', '상 품C', '상품 B', '상품 O', '상품 T',\n",
       "       '상품 W', '상 품 Q', '상품 R', '상품 S', '상 품M', '상품 I', '상품 E', '상 품I',\n",
       "       ' 상품 W', ' 상품 X', '상품 M', '상 품P'], dtype=object)"
      ]
     },
     "execution_count": 11,
     "metadata": {},
     "output_type": "execute_result"
    }
   ],
   "source": [
    "#2단계 - 소문자를 대문자로 바꾼 뒤 item name의 종류를 전부 보여줌, 위 셀보다 종류가 줄었음을 확인할 수 있음\n",
    "uriage[\"item_name\"]=uriage[\"item_name\"].str.upper()\n",
    "pd.unique(uriage[\"item_name\"])"
   ]
  },
  {
   "cell_type": "code",
   "execution_count": 12,
   "metadata": {},
   "outputs": [
    {
     "data": {
      "text/plain": [
       "array(['상품A', '상품S', '상품Z', '상품V', '상품O', '상품U', '상품L', '상품C', '상품I',\n",
       "       '상품R', '상품X', '상품G', '상품P', '상품Q', '상품Y', '상품N', '상품W', '상품E',\n",
       "       '상품K', '상품B', '상품F', '상품D', '상품M', '상품H', '상품T', '상품J'],\n",
       "      dtype=object)"
      ]
     },
     "execution_count": 12,
     "metadata": {},
     "output_type": "execute_result"
    }
   ],
   "source": [
    "#3단계 - 띄어쓰기를 없앤 뒤 item name의 종류를 전부 보여줌, 위 셀보다 종류가 줄었음을 확인할 수 있음\n",
    "uriage[\"item_name\"]=uriage[\"item_name\"].str.replace(\" \", \"\")\n",
    "pd.unique(uriage[\"item_name\"])"
   ]
  },
  {
   "cell_type": "code",
   "execution_count": 13,
   "metadata": {},
   "outputs": [
    {
     "data": {
      "text/plain": [
       "array(['상품A', '상품S', '상품Z', '상품V', '상품O', '상품U', '상품L', '상품C', '상품I',\n",
       "       '상품R', '상품X', '상품G', '상품P', '상품Q', '상품Y', '상품N', '상품W', '상품E',\n",
       "       '상품K', '상품B', '상품F', '상품D', '상품M', '상품H', '상품T', '상품J'],\n",
       "      dtype=object)"
      ]
     },
     "execution_count": 13,
     "metadata": {},
     "output_type": "execute_result"
    }
   ],
   "source": [
    "#unique 실행하는 다른방법\n",
    "uriage[\"item_name\"].unique()"
   ]
  },
  {
   "cell_type": "code",
   "execution_count": 14,
   "metadata": {},
   "outputs": [
    {
     "data": {
      "text/plain": [
       "26"
      ]
     },
     "execution_count": 14,
     "metadata": {},
     "output_type": "execute_result"
    }
   ],
   "source": [
    "len(uriage[\"item_name\"].unique())"
   ]
  },
  {
   "cell_type": "code",
   "execution_count": 15,
   "metadata": {},
   "outputs": [
    {
     "data": {
      "text/plain": [
       "array(['김 현성', '김 도윤', '김 지한', '김 하윤', '김 시온', '김 예성', '김 하람', '김 호준',\n",
       "       '김 지완', '김 주호', '김 재원', '김 승민', '김 준형', '김 동건', '김 준서', '김 수혁',\n",
       "       '김 진우', '김 윤호', '김 윤서', '김 준희', '김 윤우', '김 동우', '김 성빈', '김 태준',\n",
       "       '김 태경', '김 승후', '김 현우', '김 서준', '김 주원', '김 태인', '김 승준', '김 윤재',\n",
       "       '김 수민', '김 승훈', '김 하준', '김 하율', '김 우찬', '김 준성', '김 준혁', '김 승찬',\n",
       "       '김 현승', '김 지운', '김 성민', '김 지호', '김 우준', '김 승빈', '김 재민', '김 태민',\n",
       "       '김 주혁', '김 정원', '김 하랑', '김 지우', '김 예준', '김 주영', '김 민석', '김 유빈',\n",
       "       '김 시훈', '김 동현', '김 라온', '김 은우', '김 민재', '김 준후', '김 현서', '김 서후',\n",
       "       '김 재현', '김 유준', '김 찬우', '김 도현', '김 상민', '김 재영', '김 하진', '김 범준',\n",
       "       '김 우진', '김 지훈', '김 시윤', '김 강민', '김 지성', '김 윤찬', '김 민호', '김 윤성',\n",
       "       '김 지후', '김 현진', '김 태양', '김 대현', '김 재준', '김 민건', '김 도경', '김 지민',\n",
       "       '김 은호', '김 민혁', '김 민찬', '김 승원', '김 정현', '김 승유', '김 세현', '김 승윤',\n",
       "       '김 이준', '김 경민', '김 정훈', '김 성우', '김 은율', '김 도훈', '김 태현', '김 주안',\n",
       "       '김 동욱', '김 재훈', '김 도율', '김 예찬', '김 태훈', '김 준석', '김 원준', '김 민준',\n",
       "       '김 은찬', '김 영준', '김 주한', '김 현수', '김 건희', '김 규민', '김 재혁', '김 승재',\n",
       "       '김 정후', '김 성현', '정 영훈', '김 민우', '김 주환', '김 준호', '김 준우', '김 시율',\n",
       "       '김 도하', '김 규현', '김 주현', '김 정민', '김 건우', '정 도형', '김 연준', '김 강현',\n",
       "       '김 태우', '김 지율', '김 지용', '김 지오', '김 수호', '김 가온', '김 유찬', '김 상현',\n",
       "       '김 시완', '김 도원', '김 시우', '김 은성', '김 성윤', '김 우빈', '김 준수', '김 연호',\n",
       "       '정 우석', '김 민규', '김 태영', '김 은혁', '김 준영', '김 지환', '김 서진', '김 서윤',\n",
       "       '김 하민', '김 현준', '김 승현', '김 우영', '김 재윤', '김 한결', '김 우주', '김 지혁',\n",
       "       '김 민서', '김 찬영', '김 시환', '김 수현', '김 서율', '정 준기', '김 성훈', '김 시호',\n",
       "       '김 재호', '김 재우', '김 동하', '김 우현', '김 민기', '김 승환', '김 다온', '김 승우',\n",
       "       '김 성준', '김 승호', '김 승주', '김 태윤', '김 민수', '김 현민', '김 유진', '김 지안',\n",
       "       '김 현석', '김 선우', '김 지원', '김 재희', '김 도영', '김 이안', '김 시현', '김 서우'],\n",
       "      dtype=object)"
      ]
     },
     "execution_count": 15,
     "metadata": {},
     "output_type": "execute_result"
    }
   ],
   "source": [
    "#위에서 했던 방법 그대로 customer_information 시트에서 고객이름 컬럼의 중복을 업애보자\n",
    "customer_information[\"고객이름\"].unique()"
   ]
  },
  {
   "cell_type": "code",
   "execution_count": 16,
   "metadata": {},
   "outputs": [
    {
     "data": {
      "text/plain": [
       "array(['김현성', '김도윤', '김지한', '김하윤', '김시온', '김예성', '김하람', '김호준', '김지완',\n",
       "       '김주호', '김재원', '김승민', '김준형', '김동건', '김준서', '김수혁', '김진우', '김윤호',\n",
       "       '김윤서', '김준희', '김윤우', '김동우', '김성빈', '김태준', '김태경', '김승후', '김현우',\n",
       "       '김서준', '김주원', '김태인', '김승준', '김윤재', '김수민', '김승훈', '김하준', '김하율',\n",
       "       '김우찬', '김준성', '김준혁', '김승찬', '김현승', '김지운', '김성민', '김지호', '김우준',\n",
       "       '김승빈', '김재민', '김태민', '김주혁', '김정원', '김하랑', '김지우', '김예준', '김주영',\n",
       "       '김민석', '김유빈', '김시훈', '김동현', '김라온', '김은우', '김민재', '김준후', '김현서',\n",
       "       '김서후', '김재현', '김유준', '김찬우', '김도현', '김상민', '김재영', '김하진', '김범준',\n",
       "       '김우진', '김지훈', '김시윤', '김강민', '김지성', '김윤찬', '김민호', '김윤성', '김지후',\n",
       "       '김현진', '김태양', '김대현', '김재준', '김민건', '김도경', '김지민', '김은호', '김민혁',\n",
       "       '김민찬', '김승원', '김정현', '김승유', '김세현', '김승윤', '김이준', '김경민', '김정훈',\n",
       "       '김성우', '김은율', '김도훈', '김태현', '김주안', '김동욱', '김재훈', '김도율', '김예찬',\n",
       "       '김태훈', '김준석', '김원준', '김민준', '김은찬', '김영준', '김주한', '김현수', '김건희',\n",
       "       '김규민', '김재혁', '김승재', '김정후', '김성현', '정영훈', '김민우', '김주환', '김준호',\n",
       "       '김준우', '김시율', '김도하', '김규현', '김주현', '김정민', '김건우', '정도형', '김연준',\n",
       "       '김강현', '김태우', '김지율', '김지용', '김지오', '김수호', '김가온', '김유찬', '김상현',\n",
       "       '김시완', '김도원', '김시우', '김은성', '김성윤', '김우빈', '김준수', '김연호', '정우석',\n",
       "       '김민규', '김태영', '김은혁', '김준영', '김지환', '김서진', '김서윤', '김하민', '김현준',\n",
       "       '김승현', '김우영', '김재윤', '김한결', '김우주', '김지혁', '김민서', '김찬영', '김시환',\n",
       "       '김수현', '김서율', '정준기', '김성훈', '김시호', '김재호', '김재우', '김동하', '김우현',\n",
       "       '김민기', '김승환', '김다온', '김승우', '김성준', '김승호', '김승주', '김태윤', '김민수',\n",
       "       '김현민', '김유진', '김지안', '김현석', '김선우', '김지원', '김재희', '김도영', '김이안',\n",
       "       '김시현', '김서우'], dtype=object)"
      ]
     },
     "execution_count": 16,
     "metadata": {},
     "output_type": "execute_result"
    }
   ],
   "source": [
    "customer_information[\"고객이름\"]=customer_information[\"고객이름\"].str.replace(\" \", \"\")\n",
    "pd.unique(customer_information[\"고객이름\"])"
   ]
  },
  {
   "cell_type": "markdown",
   "metadata": {},
   "source": [
    "### 테크닉3. 금액 결측치 수정"
   ]
  },
  {
   "cell_type": "code",
   "execution_count": 18,
   "metadata": {},
   "outputs": [
    {
     "data": {
      "text/plain": [
       "purchase_date    False\n",
       "item_name        False\n",
       "item_price        True\n",
       "customer_name    False\n",
       "dtype: bool"
      ]
     },
     "execution_count": 18,
     "metadata": {},
     "output_type": "execute_result"
    }
   ],
   "source": [
    "uriage.isnull().any() #null값이 있는지 없는지 확인하는 용도"
   ]
  },
  {
   "cell_type": "markdown",
   "metadata": {},
   "source": [
    "loc함수 - 행을 조회함/따옴"
   ]
  },
  {
   "cell_type": "code",
   "execution_count": 20,
   "metadata": {},
   "outputs": [
    {
     "data": {
      "text/html": [
       "<div>\n",
       "<style scoped>\n",
       "    .dataframe tbody tr th:only-of-type {\n",
       "        vertical-align: middle;\n",
       "    }\n",
       "\n",
       "    .dataframe tbody tr th {\n",
       "        vertical-align: top;\n",
       "    }\n",
       "\n",
       "    .dataframe thead th {\n",
       "        text-align: right;\n",
       "    }\n",
       "</style>\n",
       "<table border=\"1\" class=\"dataframe\">\n",
       "  <thead>\n",
       "    <tr style=\"text-align: right;\">\n",
       "      <th></th>\n",
       "      <th>country</th>\n",
       "      <th>continent</th>\n",
       "      <th>port</th>\n",
       "    </tr>\n",
       "  </thead>\n",
       "  <tbody>\n",
       "    <tr>\n",
       "      <th>Busan</th>\n",
       "      <td>Korea</td>\n",
       "      <td>Asia</td>\n",
       "      <td>True</td>\n",
       "    </tr>\n",
       "    <tr>\n",
       "      <th>Chicago</th>\n",
       "      <td>USA</td>\n",
       "      <td>North America</td>\n",
       "      <td>False</td>\n",
       "    </tr>\n",
       "    <tr>\n",
       "      <th>Paris</th>\n",
       "      <td>France</td>\n",
       "      <td>Europe</td>\n",
       "      <td>False</td>\n",
       "    </tr>\n",
       "  </tbody>\n",
       "</table>\n",
       "</div>"
      ],
      "text/plain": [
       "        country      continent   port\n",
       "Busan     Korea           Asia   True\n",
       "Chicago     USA  North America  False\n",
       "Paris    France         Europe  False"
      ]
     },
     "execution_count": 20,
     "metadata": {},
     "output_type": "execute_result"
    }
   ],
   "source": [
    "city = pd.DataFrame(\n",
    "    [\n",
    "        [\"Korea\",\"Asia\",True],\n",
    "        [\"USA\",\"North America\",False],\n",
    "        [\"France\",\"Europe\",False]\n",
    "    ],\n",
    "    index = [\"Busan\",\"Chicago\",\"Paris\"],\n",
    "    columns = [\"country\",\"continent\",\"port\"]\n",
    ")\n",
    "city"
   ]
  },
  {
   "cell_type": "code",
   "execution_count": 22,
   "metadata": {},
   "outputs": [
    {
     "data": {
      "text/plain": [
       "Busan       Korea\n",
       "Chicago       USA\n",
       "Paris      France\n",
       "Name: country, dtype: object"
      ]
     },
     "execution_count": 22,
     "metadata": {},
     "output_type": "execute_result"
    }
   ],
   "source": [
    "city[\"country\"] #컬럼기준으로만 조회하는 함수, loc은 행을 기준으로 따올 수 있는 함수"
   ]
  },
  {
   "cell_type": "code",
   "execution_count": 25,
   "metadata": {},
   "outputs": [
    {
     "data": {
      "text/html": [
       "<div>\n",
       "<style scoped>\n",
       "    .dataframe tbody tr th:only-of-type {\n",
       "        vertical-align: middle;\n",
       "    }\n",
       "\n",
       "    .dataframe tbody tr th {\n",
       "        vertical-align: top;\n",
       "    }\n",
       "\n",
       "    .dataframe thead th {\n",
       "        text-align: right;\n",
       "    }\n",
       "</style>\n",
       "<table border=\"1\" class=\"dataframe\">\n",
       "  <thead>\n",
       "    <tr style=\"text-align: right;\">\n",
       "      <th></th>\n",
       "      <th>country</th>\n",
       "      <th>continent</th>\n",
       "      <th>port</th>\n",
       "    </tr>\n",
       "  </thead>\n",
       "  <tbody>\n",
       "    <tr>\n",
       "      <th>Busan</th>\n",
       "      <td>Korea</td>\n",
       "      <td>Asia</td>\n",
       "      <td>True</td>\n",
       "    </tr>\n",
       "  </tbody>\n",
       "</table>\n",
       "</div>"
      ],
      "text/plain": [
       "      country continent  port\n",
       "Busan   Korea      Asia  True"
      ]
     },
     "execution_count": 25,
     "metadata": {},
     "output_type": "execute_result"
    }
   ],
   "source": [
    "#loc[조건문]\n",
    "city.loc[city[\"country\"]==\"Korea\"]\n",
    "#원하는 컬럼을 떼옴 == 그 중에서 원하는 행을 지정"
   ]
  },
  {
   "cell_type": "code",
   "execution_count": 26,
   "metadata": {},
   "outputs": [
    {
     "data": {
      "text/plain": [
       "Busan    Asia\n",
       "Name: continent, dtype: object"
      ]
     },
     "execution_count": 26,
     "metadata": {},
     "output_type": "execute_result"
    }
   ],
   "source": [
    "#loc[조건문, 조회할 컬럼명]\n",
    "city.loc[city[\"country\"]==\"Korea\", \"continent\"]\n",
    "#위에서는 한 행이 다 나왔지만 여기서는 원하는 내용만 선택해서 나옴"
   ]
  },
  {
   "cell_type": "code",
   "execution_count": 27,
   "metadata": {},
   "outputs": [
    {
     "data": {
      "text/html": [
       "<div>\n",
       "<style scoped>\n",
       "    .dataframe tbody tr th:only-of-type {\n",
       "        vertical-align: middle;\n",
       "    }\n",
       "\n",
       "    .dataframe tbody tr th {\n",
       "        vertical-align: top;\n",
       "    }\n",
       "\n",
       "    .dataframe thead th {\n",
       "        text-align: right;\n",
       "    }\n",
       "</style>\n",
       "<table border=\"1\" class=\"dataframe\">\n",
       "  <thead>\n",
       "    <tr style=\"text-align: right;\">\n",
       "      <th></th>\n",
       "      <th>country</th>\n",
       "      <th>continent</th>\n",
       "      <th>port</th>\n",
       "    </tr>\n",
       "  </thead>\n",
       "  <tbody>\n",
       "    <tr>\n",
       "      <th>Busan</th>\n",
       "      <td>Korea</td>\n",
       "      <td>Asia</td>\n",
       "      <td>True</td>\n",
       "    </tr>\n",
       "  </tbody>\n",
       "</table>\n",
       "</div>"
      ],
      "text/plain": [
       "      country continent  port\n",
       "Busan   Korea      Asia  True"
      ]
     },
     "execution_count": 27,
     "metadata": {},
     "output_type": "execute_result"
    }
   ],
   "source": [
    "#조건을 true / false로 줄 수도 있음\n",
    "city.loc[city[\"port\"]]"
   ]
  },
  {
   "cell_type": "code",
   "execution_count": 28,
   "metadata": {},
   "outputs": [
    {
     "data": {
      "text/html": [
       "<div>\n",
       "<style scoped>\n",
       "    .dataframe tbody tr th:only-of-type {\n",
       "        vertical-align: middle;\n",
       "    }\n",
       "\n",
       "    .dataframe tbody tr th {\n",
       "        vertical-align: top;\n",
       "    }\n",
       "\n",
       "    .dataframe thead th {\n",
       "        text-align: right;\n",
       "    }\n",
       "</style>\n",
       "<table border=\"1\" class=\"dataframe\">\n",
       "  <thead>\n",
       "    <tr style=\"text-align: right;\">\n",
       "      <th></th>\n",
       "      <th>country</th>\n",
       "      <th>continent</th>\n",
       "      <th>port</th>\n",
       "    </tr>\n",
       "  </thead>\n",
       "  <tbody>\n",
       "    <tr>\n",
       "      <th>Chicago</th>\n",
       "      <td>USA</td>\n",
       "      <td>North America</td>\n",
       "      <td>False</td>\n",
       "    </tr>\n",
       "    <tr>\n",
       "      <th>Paris</th>\n",
       "      <td>France</td>\n",
       "      <td>Europe</td>\n",
       "      <td>False</td>\n",
       "    </tr>\n",
       "  </tbody>\n",
       "</table>\n",
       "</div>"
      ],
      "text/plain": [
       "        country      continent   port\n",
       "Chicago     USA  North America  False\n",
       "Paris    France         Europe  False"
      ]
     },
     "execution_count": 28,
     "metadata": {},
     "output_type": "execute_result"
    }
   ],
   "source": [
    "city.loc[~city[\"port\"]]"
   ]
  },
  {
   "cell_type": "code",
   "execution_count": 31,
   "metadata": {},
   "outputs": [
    {
     "data": {
      "text/html": [
       "<div>\n",
       "<style scoped>\n",
       "    .dataframe tbody tr th:only-of-type {\n",
       "        vertical-align: middle;\n",
       "    }\n",
       "\n",
       "    .dataframe tbody tr th {\n",
       "        vertical-align: top;\n",
       "    }\n",
       "\n",
       "    .dataframe thead th {\n",
       "        text-align: right;\n",
       "    }\n",
       "</style>\n",
       "<table border=\"1\" class=\"dataframe\">\n",
       "  <thead>\n",
       "    <tr style=\"text-align: right;\">\n",
       "      <th></th>\n",
       "      <th>country</th>\n",
       "      <th>continent</th>\n",
       "      <th>port</th>\n",
       "    </tr>\n",
       "  </thead>\n",
       "  <tbody>\n",
       "  </tbody>\n",
       "</table>\n",
       "</div>"
      ],
      "text/plain": [
       "Empty DataFrame\n",
       "Columns: [country, continent, port]\n",
       "Index: []"
      ]
     },
     "execution_count": 31,
     "metadata": {},
     "output_type": "execute_result"
    }
   ],
   "source": [
    "#복합조건 - and(&), or(|) 등\n",
    "#[] 및 () 유의\n",
    "\n",
    "city.loc\n",
    "[\n",
    "    (city[\"country\"]==\"Korea\") \n",
    "    & \n",
    "    (city[\"continent\"]==\"Europe\")\n",
    "]"
   ]
  },
  {
   "cell_type": "code",
   "execution_count": 33,
   "metadata": {},
   "outputs": [
    {
     "data": {
      "text/plain": [
       "[Busan       True\n",
       " Chicago    False\n",
       " Paris       True\n",
       " dtype: bool]"
      ]
     },
     "execution_count": 33,
     "metadata": {},
     "output_type": "execute_result"
    }
   ],
   "source": [
    "city.loc\n",
    "[\n",
    "    (city[\"country\"]==\"Korea\") \n",
    "    |\n",
    "    (city[\"continent\"]==\"Europe\")\n",
    "]"
   ]
  },
  {
   "cell_type": "code",
   "execution_count": 35,
   "metadata": {},
   "outputs": [
    {
     "data": {
      "text/plain": [
       "0       False\n",
       "1        True\n",
       "2        True\n",
       "3       False\n",
       "4        True\n",
       "        ...  \n",
       "2994    False\n",
       "2995    False\n",
       "2996     True\n",
       "2997     True\n",
       "2998    False\n",
       "Name: item_price, Length: 2999, dtype: bool"
      ]
     },
     "execution_count": 35,
     "metadata": {},
     "output_type": "execute_result"
    }
   ],
   "source": [
    "uriage[\"item_price\"].isnull()"
   ]
  },
  {
   "cell_type": "code",
   "execution_count": 41,
   "metadata": {},
   "outputs": [
    {
     "data": {
      "text/plain": [
       "1       상품S\n",
       "2       상품A\n",
       "4       상품A\n",
       "6       상품A\n",
       "14      상품A\n",
       "       ... \n",
       "2987    상품K\n",
       "2990    상품O\n",
       "2992    상품C\n",
       "2996    상품Q\n",
       "2997    상품H\n",
       "Name: item_name, Length: 387, dtype: object"
      ]
     },
     "execution_count": 41,
     "metadata": {},
     "output_type": "execute_result"
    }
   ],
   "source": [
    "uriage.loc[uriage[\"item_price\"].isnull() == True, \"item_name\"]"
   ]
  },
  {
   "cell_type": "code",
   "execution_count": 45,
   "metadata": {},
   "outputs": [
    {
     "data": {
      "text/plain": [
       "100.0"
      ]
     },
     "execution_count": 45,
     "metadata": {},
     "output_type": "execute_result"
    }
   ],
   "source": [
    "uriage.loc[uriage[\"item_name\"]==\"상품A\", \"item_price\"].max()\n",
    "#max를 쓴 이유는 null 아니면 상품값이 나올테니까 상품값을 찾기위해"
   ]
  },
  {
   "cell_type": "code",
   "execution_count": 54,
   "metadata": {},
   "outputs": [
    {
     "data": {
      "text/plain": [
       "2      NaN\n",
       "4      NaN\n",
       "6      NaN\n",
       "14     NaN\n",
       "300    NaN\n",
       "361    NaN\n",
       "667    NaN\n",
       "838    NaN\n",
       "844    NaN\n",
       "957    NaN\n",
       "1260   NaN\n",
       "1394   NaN\n",
       "1474   NaN\n",
       "1892   NaN\n",
       "1937   NaN\n",
       "1977   NaN\n",
       "2063   NaN\n",
       "2278   NaN\n",
       "2636   NaN\n",
       "2669   NaN\n",
       "2732   NaN\n",
       "2821   NaN\n",
       "Name: item_price, dtype: float64"
      ]
     },
     "execution_count": 54,
     "metadata": {},
     "output_type": "execute_result"
    }
   ],
   "source": [
    "#for문 이용해서 모든 상품의 가격 결측지를 메움, 그리고 item_price 열만 봄\n",
    "uriage.loc[(uriage[\"item_price\"].isnull())&(uriage[\"item_name\"] == \"상품A\"), \"item_price\"]"
   ]
  },
  {
   "cell_type": "code",
   "execution_count": 53,
   "metadata": {},
   "outputs": [
    {
     "data": {
      "text/plain": [
       "array(['상품S', '상품A', '상품P', '상품N', '상품W', '상품R', '상품I', '상품L', '상품F',\n",
       "       '상품O', '상품B', '상품C', '상품V', '상품Q', '상품U', '상품K', '상품T', '상품X',\n",
       "       '상품E', '상품M', '상품G', '상품J', '상품D', '상품H', '상품Y'], dtype=object)"
      ]
     },
     "execution_count": 53,
     "metadata": {},
     "output_type": "execute_result"
    }
   ],
   "source": [
    "uriage.loc[uriage[\"item_price\"].isnull() == True, \"item_name\"].unique()\n",
    "#상품 중 item price가 null을 다 찾음"
   ]
  },
  {
   "cell_type": "code",
   "execution_count": 60,
   "metadata": {},
   "outputs": [
    {
     "data": {
      "text/html": [
       "<div>\n",
       "<style scoped>\n",
       "    .dataframe tbody tr th:only-of-type {\n",
       "        vertical-align: middle;\n",
       "    }\n",
       "\n",
       "    .dataframe tbody tr th {\n",
       "        vertical-align: top;\n",
       "    }\n",
       "\n",
       "    .dataframe thead th {\n",
       "        text-align: right;\n",
       "    }\n",
       "</style>\n",
       "<table border=\"1\" class=\"dataframe\">\n",
       "  <thead>\n",
       "    <tr style=\"text-align: right;\">\n",
       "      <th></th>\n",
       "      <th>purchase_date</th>\n",
       "      <th>item_name</th>\n",
       "      <th>item_price</th>\n",
       "      <th>customer_name</th>\n",
       "    </tr>\n",
       "  </thead>\n",
       "  <tbody>\n",
       "    <tr>\n",
       "      <th>0</th>\n",
       "      <td>201906</td>\n",
       "      <td>상품A</td>\n",
       "      <td>100.0</td>\n",
       "      <td>김가온</td>\n",
       "    </tr>\n",
       "    <tr>\n",
       "      <th>1</th>\n",
       "      <td>201907</td>\n",
       "      <td>상품S</td>\n",
       "      <td>1900.0</td>\n",
       "      <td>김우찬</td>\n",
       "    </tr>\n",
       "    <tr>\n",
       "      <th>2</th>\n",
       "      <td>201905</td>\n",
       "      <td>상품A</td>\n",
       "      <td>100.0</td>\n",
       "      <td>김유찬</td>\n",
       "    </tr>\n",
       "    <tr>\n",
       "      <th>3</th>\n",
       "      <td>201902</td>\n",
       "      <td>상품Z</td>\n",
       "      <td>2600.0</td>\n",
       "      <td>김재현</td>\n",
       "    </tr>\n",
       "    <tr>\n",
       "      <th>4</th>\n",
       "      <td>201904</td>\n",
       "      <td>상품A</td>\n",
       "      <td>100.0</td>\n",
       "      <td>김강현</td>\n",
       "    </tr>\n",
       "  </tbody>\n",
       "</table>\n",
       "</div>"
      ],
      "text/plain": [
       "  purchase_date item_name  item_price customer_name\n",
       "0        201906       상품A       100.0           김가온\n",
       "1        201907       상품S      1900.0           김우찬\n",
       "2        201905       상품A       100.0           김유찬\n",
       "3        201902       상품Z      2600.0           김재현\n",
       "4        201904       상품A       100.0           김강현"
      ]
     },
     "execution_count": 60,
     "metadata": {},
     "output_type": "execute_result"
    }
   ],
   "source": [
    "for target_item in list(uriage.loc[uriage[\"item_price\"].isnull() == True, \"item_name\"].unique()):\n",
    "#첫번째 for문 - target_item 안에 상품 중 item price가 null을 다 찾아서 첫번째는 상품S, 두번째는 상품A... 이런식으로 하나씩 들어옴\n",
    "    standard_price = uriage.loc[uriage[\"item_name\"]==target_item, \"item_price\"].max()\n",
    "    #item_name이 상품S, 상품A... 하나씩 들어가는 target_item이고 item_price는 max()인 것으로 찾음, 이를 standard_price 변수로 새로 저장\n",
    "    uriage.loc[(uriage[\"item_price\"].isnull())&(uriage[\"item_name\"] == target_item), \"item_price\"] = standard_price\n",
    "    #for문 이용해서 모든 상품의 가격 결측지를 메움, 그리고 item_price 열만 봄\n",
    "    \n",
    "uriage.head()"
   ]
  }
 ],
 "metadata": {
  "kernelspec": {
   "display_name": "Python 3",
   "language": "python",
   "name": "python3"
  },
  "language_info": {
   "codemirror_mode": {
    "name": "ipython",
    "version": 3
   },
   "file_extension": ".py",
   "mimetype": "text/x-python",
   "name": "python",
   "nbconvert_exporter": "python",
   "pygments_lexer": "ipython3",
   "version": "3.8.4"
  }
 },
 "nbformat": 4,
 "nbformat_minor": 4
}
